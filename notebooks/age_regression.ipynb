{
 "cells": [
  {
   "cell_type": "code",
   "execution_count": 1,
   "metadata": {},
   "outputs": [],
   "source": [
    "import numpy as np\n",
    "import tensorflow as tf\n",
    "from tensorflow import keras\n",
    "from tensorflow.keras.backend import resize_images\n",
    "from tensorflow.keras.models import Sequential,Model\n",
    "from tensorflow.keras.layers import ZeroPadding2D,Convolution2D,MaxPooling2D\n",
    "from tensorflow.keras.layers import Dense,Dropout,Softmax,Flatten,Activation,BatchNormalization\n",
    "from tensorflow.keras.applications.imagenet_utils import preprocess_input\n",
    "from tensorflow.keras.preprocessing.image import ImageDataGenerator\n",
    "import tensorflow.keras.backend as K\n",
    "from sklearn.model_selection import train_test_split\n",
    "\n",
    "import matplotlib.pyplot as plt\n",
    "from sklearn.metrics import classification_report"
   ]
  },
  {
   "cell_type": "code",
   "execution_count": 2,
   "metadata": {},
   "outputs": [],
   "source": [
    "from tensorflow.compat.v1 import ConfigProto\n",
    "from tensorflow.compat.v1 import InteractiveSession\n",
    "\n",
    "config = ConfigProto()\n",
    "config.gpu_options.allow_growth = True\n",
    "session = InteractiveSession(config=config)"
   ]
  },
  {
   "cell_type": "markdown",
   "metadata": {},
   "source": [
    "### Load data"
   ]
  },
  {
   "cell_type": "code",
   "execution_count": 3,
   "metadata": {},
   "outputs": [],
   "source": [
    "features = np.load('features_facenet.npy')\n",
    "labels = np.load('../data/labels.npy')"
   ]
  },
  {
   "cell_type": "code",
   "execution_count": 4,
   "metadata": {},
   "outputs": [],
   "source": [
    "x_train, x_test, y_train, y_test = train_test_split(features, labels, test_size=0.3)"
   ]
  },
  {
   "cell_type": "markdown",
   "metadata": {},
   "source": [
    "### Define model"
   ]
  },
  {
   "cell_type": "code",
   "execution_count": 5,
   "metadata": {},
   "outputs": [],
   "source": [
    "#\n",
    "model=Sequential()\n",
    "model.add(Dense(units=100,input_dim=features.shape[1],kernel_initializer='glorot_uniform'))\n",
    "model.add(Activation('tanh'))\n",
    "model.add(Dropout(0.3))\n",
    "model.add(Dense(units=10,kernel_initializer='glorot_uniform'))\n",
    "model.add(Activation('tanh'))\n",
    "model.add(Dropout(0.2))\n",
    "model.add(Dense(units=1))\n",
    "optimizer = tf.keras.optimizers.RMSprop(0.001)\n",
    "\n",
    "model.compile(loss='mse', optimizer=optimizer, metrics=['mae', 'mse'])"
   ]
  },
  {
   "cell_type": "code",
   "execution_count": 6,
   "metadata": {},
   "outputs": [
    {
     "name": "stdout",
     "output_type": "stream",
     "text": [
      "Model: \"sequential\"\n",
      "_________________________________________________________________\n",
      "Layer (type)                 Output Shape              Param #   \n",
      "=================================================================\n",
      "dense (Dense)                (None, 100)               262300    \n",
      "_________________________________________________________________\n",
      "activation (Activation)      (None, 100)               0         \n",
      "_________________________________________________________________\n",
      "dropout (Dropout)            (None, 100)               0         \n",
      "_________________________________________________________________\n",
      "dense_1 (Dense)              (None, 10)                1010      \n",
      "_________________________________________________________________\n",
      "activation_1 (Activation)    (None, 10)                0         \n",
      "_________________________________________________________________\n",
      "dropout_1 (Dropout)          (None, 10)                0         \n",
      "_________________________________________________________________\n",
      "dense_2 (Dense)              (None, 1)                 11        \n",
      "=================================================================\n",
      "Total params: 263,321\n",
      "Trainable params: 263,321\n",
      "Non-trainable params: 0\n",
      "_________________________________________________________________\n"
     ]
    }
   ],
   "source": [
    "model.summary()"
   ]
  },
  {
   "cell_type": "markdown",
   "metadata": {},
   "source": [
    "### Initialize dataset"
   ]
  },
  {
   "cell_type": "code",
   "execution_count": 7,
   "metadata": {},
   "outputs": [
    {
     "data": {
      "text/plain": [
       "(16595, 2622)"
      ]
     },
     "execution_count": 7,
     "metadata": {},
     "output_type": "execute_result"
    }
   ],
   "source": [
    "x_train.shape"
   ]
  },
  {
   "cell_type": "code",
   "execution_count": 8,
   "metadata": {},
   "outputs": [],
   "source": [
    "train_dataset = tf.data.Dataset.from_tensor_slices((x_train, y_train))\n",
    "test_dataset = tf.data.Dataset.from_tensor_slices((x_test, y_test))"
   ]
  },
  {
   "cell_type": "code",
   "execution_count": 9,
   "metadata": {},
   "outputs": [],
   "source": [
    "BATCH_SIZE = 64\n",
    "SHUFFLE_BUFFER_SIZE = 100\n",
    "EPOCHS = 200\n",
    "\n",
    "train_dataset = train_dataset.shuffle(SHUFFLE_BUFFER_SIZE).batch(BATCH_SIZE)\n",
    "test_dataset = test_dataset.batch(BATCH_SIZE)"
   ]
  },
  {
   "cell_type": "markdown",
   "metadata": {},
   "source": [
    "### Learn model"
   ]
  },
  {
   "cell_type": "code",
   "execution_count": 10,
   "metadata": {},
   "outputs": [
    {
     "name": "stdout",
     "output_type": "stream",
     "text": [
      "Train for 260 steps, validate for 112 steps\n",
      "Epoch 1/200\n",
      "260/260 [==============================] - 2s 7ms/step - loss: 1180.7984 - mae: 28.6806 - mse: 1181.8904 - val_loss: 1084.1001 - val_mae: 27.2358 - val_mse: 1088.2323\n",
      "Epoch 2/200\n",
      "260/260 [==============================] - 1s 4ms/step - loss: 1026.7568 - mae: 26.3927 - mse: 1026.8845 - val_loss: 944.0343 - val_mae: 25.1051 - val_mse: 947.8721\n",
      "Epoch 3/200\n",
      "260/260 [==============================] - 1s 4ms/step - loss: 893.2445 - mae: 24.2850 - mse: 894.4141 - val_loss: 820.2954 - val_mae: 23.0832 - val_mse: 823.8398\n",
      "Epoch 4/200\n",
      "260/260 [==============================] - 1s 4ms/step - loss: 776.3389 - mae: 22.2499 - mse: 776.2511 - val_loss: 712.6367 - val_mae: 21.1374 - val_mse: 715.8885\n",
      "Epoch 5/200\n",
      "260/260 [==============================] - 1s 4ms/step - loss: 678.0257 - mae: 20.3820 - mse: 678.3663 - val_loss: 621.2715 - val_mae: 19.3251 - val_mse: 624.2322\n",
      "Epoch 6/200\n",
      "260/260 [==============================] - 1s 4ms/step - loss: 594.5730 - mae: 18.6571 - mse: 594.5200 - val_loss: 546.0535 - val_mae: 17.6588 - val_mse: 548.7255\n",
      "Epoch 7/200\n",
      "260/260 [==============================] - 1s 4ms/step - loss: 529.4050 - mae: 17.2292 - mse: 529.9464 - val_loss: 487.2774 - val_mae: 16.2360 - val_mse: 489.6664\n",
      "Epoch 8/200\n",
      "260/260 [==============================] - 1s 4ms/step - loss: 461.1275 - mae: 15.5950 - mse: 461.2580 - val_loss: 374.1293 - val_mae: 12.5395 - val_mse: 376.3676\n",
      "Epoch 9/200\n",
      "260/260 [==============================] - 1s 4ms/step - loss: 364.8342 - mae: 12.9082 - mse: 365.4383 - val_loss: 320.0179 - val_mae: 11.3329 - val_mse: 321.8396\n",
      "Epoch 10/200\n",
      "260/260 [==============================] - 1s 5ms/step - loss: 317.7088 - mae: 11.9590 - mse: 317.8594 - val_loss: 274.9341 - val_mae: 10.3705 - val_mse: 276.5463\n",
      "Epoch 11/200\n",
      "260/260 [==============================] - 1s 4ms/step - loss: 278.7826 - mae: 11.2654 - mse: 279.1187 - val_loss: 237.5467 - val_mae: 9.5972 - val_mse: 238.9389\n",
      "Epoch 12/200\n",
      "260/260 [==============================] - 1s 4ms/step - loss: 247.4968 - mae: 10.7032 - mse: 247.9406 - val_loss: 206.5247 - val_mae: 9.0845 - val_mse: 207.7584\n",
      "Epoch 13/200\n",
      "260/260 [==============================] - 1s 4ms/step - loss: 221.7852 - mae: 10.3257 - mse: 222.2468 - val_loss: 181.2400 - val_mae: 8.5996 - val_mse: 182.2914\n",
      "Epoch 14/200\n",
      "260/260 [==============================] - 1s 4ms/step - loss: 199.5836 - mae: 9.8965 - mse: 199.6142 - val_loss: 159.3617 - val_mae: 8.0154 - val_mse: 160.2135\n",
      "Epoch 15/200\n",
      "260/260 [==============================] - 1s 4ms/step - loss: 186.2420 - mae: 9.7097 - mse: 186.5411 - val_loss: 141.1186 - val_mae: 7.5989 - val_mse: 141.8070\n",
      "Epoch 16/200\n",
      "260/260 [==============================] - 1s 4ms/step - loss: 169.6145 - mae: 9.4042 - mse: 169.7139 - val_loss: 126.2818 - val_mae: 7.2491 - val_mse: 126.8389\n",
      "Epoch 17/200\n",
      "260/260 [==============================] - 1s 4ms/step - loss: 161.4200 - mae: 9.2529 - mse: 161.3672 - val_loss: 116.5221 - val_mae: 7.1242 - val_mse: 116.9570\n",
      "Epoch 18/200\n",
      "260/260 [==============================] - 1s 4ms/step - loss: 152.3783 - mae: 9.0499 - mse: 152.1858 - val_loss: 107.3893 - val_mae: 6.8344 - val_mse: 107.8281\n",
      "Epoch 19/200\n",
      "260/260 [==============================] - 1s 4ms/step - loss: 147.0666 - mae: 9.0148 - mse: 147.2185 - val_loss: 101.9427 - val_mae: 6.7603 - val_mse: 102.3395\n",
      "Epoch 20/200\n",
      "260/260 [==============================] - 1s 4ms/step - loss: 145.1287 - mae: 8.9145 - mse: 145.2188 - val_loss: 97.8327 - val_mae: 6.6611 - val_mse: 98.2038\n",
      "Epoch 21/200\n",
      "260/260 [==============================] - 1s 4ms/step - loss: 140.4537 - mae: 8.8917 - mse: 140.4502 - val_loss: 93.4285 - val_mae: 6.4858 - val_mse: 93.7996\n",
      "Epoch 22/200\n",
      "260/260 [==============================] - 1s 4ms/step - loss: 134.7750 - mae: 8.7356 - mse: 134.9355 - val_loss: 88.7168 - val_mae: 6.2792 - val_mse: 89.0099\n",
      "Epoch 23/200\n",
      "260/260 [==============================] - 1s 4ms/step - loss: 131.8589 - mae: 8.6704 - mse: 131.9155 - val_loss: 89.3806 - val_mae: 6.5077 - val_mse: 89.6626\n",
      "Epoch 24/200\n",
      "260/260 [==============================] - 1s 4ms/step - loss: 131.1100 - mae: 8.5964 - mse: 131.3329 - val_loss: 92.4187 - val_mae: 6.7891 - val_mse: 92.6594\n",
      "Epoch 25/200\n",
      "260/260 [==============================] - 1s 4ms/step - loss: 127.1540 - mae: 8.4955 - mse: 127.1952 - val_loss: 93.6834 - val_mae: 7.0391 - val_mse: 93.9492\n",
      "Epoch 26/200\n",
      "260/260 [==============================] - 1s 4ms/step - loss: 125.4218 - mae: 8.4324 - mse: 125.5853 - val_loss: 83.7186 - val_mae: 6.3793 - val_mse: 83.9712\n",
      "Epoch 27/200\n",
      "260/260 [==============================] - 1s 4ms/step - loss: 123.4197 - mae: 8.3487 - mse: 123.5543 - val_loss: 85.5289 - val_mae: 6.5645 - val_mse: 85.6822\n",
      "Epoch 28/200\n",
      "260/260 [==============================] - 1s 4ms/step - loss: 121.2261 - mae: 8.2632 - mse: 121.3132 - val_loss: 85.0829 - val_mae: 6.4328 - val_mse: 85.2577\n",
      "Epoch 29/200\n",
      "260/260 [==============================] - 1s 4ms/step - loss: 116.6974 - mae: 8.1557 - mse: 116.8661 - val_loss: 84.5731 - val_mae: 6.6892 - val_mse: 84.7675\n",
      "Epoch 30/200\n",
      "260/260 [==============================] - 1s 4ms/step - loss: 117.8550 - mae: 8.1550 - mse: 117.5181 - val_loss: 83.8774 - val_mae: 6.7000 - val_mse: 84.1240\n",
      "Epoch 31/200\n",
      "260/260 [==============================] - 1s 4ms/step - loss: 116.0422 - mae: 8.0922 - mse: 116.1288 - val_loss: 90.2010 - val_mae: 7.2213 - val_mse: 90.3510\n",
      "Epoch 32/200\n",
      "260/260 [==============================] - 1s 4ms/step - loss: 115.4248 - mae: 8.0981 - mse: 115.4148 - val_loss: 78.2378 - val_mae: 6.3118 - val_mse: 78.3842\n",
      "Epoch 33/200\n",
      "260/260 [==============================] - 1s 4ms/step - loss: 111.2237 - mae: 7.9512 - mse: 111.2933 - val_loss: 83.4172 - val_mae: 6.5969 - val_mse: 83.4983\n",
      "Epoch 34/200\n",
      "260/260 [==============================] - 1s 4ms/step - loss: 110.3599 - mae: 7.9552 - mse: 110.3831 - val_loss: 87.0261 - val_mae: 7.1157 - val_mse: 87.1320\n",
      "Epoch 35/200\n",
      "260/260 [==============================] - 1s 4ms/step - loss: 107.5332 - mae: 7.8602 - mse: 107.6907 - val_loss: 83.2776 - val_mae: 6.6167 - val_mse: 83.3284\n",
      "Epoch 36/200\n",
      "260/260 [==============================] - 1s 4ms/step - loss: 109.0450 - mae: 7.8568 - mse: 109.0722 - val_loss: 78.1687 - val_mae: 6.3625 - val_mse: 78.2156\n",
      "Epoch 37/200\n",
      "260/260 [==============================] - 1s 4ms/step - loss: 105.0096 - mae: 7.7572 - mse: 104.9077 - val_loss: 75.8613 - val_mae: 6.3179 - val_mse: 75.9146\n",
      "Epoch 38/200\n",
      "260/260 [==============================] - 1s 4ms/step - loss: 104.2665 - mae: 7.7254 - mse: 104.3546 - val_loss: 88.8489 - val_mae: 7.0230 - val_mse: 88.7257\n",
      "Epoch 39/200\n",
      "260/260 [==============================] - 1s 4ms/step - loss: 107.2940 - mae: 7.7469 - mse: 107.3231 - val_loss: 74.3014 - val_mae: 6.1932 - val_mse: 74.3959\n",
      "Epoch 40/200\n",
      "260/260 [==============================] - 1s 4ms/step - loss: 103.1154 - mae: 7.6407 - mse: 103.2514 - val_loss: 72.6439 - val_mae: 6.1351 - val_mse: 72.7292\n",
      "Epoch 41/200\n",
      "260/260 [==============================] - 1s 4ms/step - loss: 100.1146 - mae: 7.5630 - mse: 100.1705 - val_loss: 72.1955 - val_mae: 6.1390 - val_mse: 72.3046\n",
      "Epoch 42/200\n",
      "260/260 [==============================] - 1s 4ms/step - loss: 99.6844 - mae: 7.5353 - mse: 99.7650 - val_loss: 80.5993 - val_mae: 6.5798 - val_mse: 80.5137\n",
      "Epoch 43/200\n",
      "260/260 [==============================] - 1s 4ms/step - loss: 99.1217 - mae: 7.5260 - mse: 99.2531 - val_loss: 78.7647 - val_mae: 6.7683 - val_mse: 78.8902\n",
      "Epoch 44/200\n",
      "260/260 [==============================] - 1s 4ms/step - loss: 98.8284 - mae: 7.4937 - mse: 98.8954 - val_loss: 77.5111 - val_mae: 6.6206 - val_mse: 77.5572\n",
      "Epoch 45/200\n",
      "260/260 [==============================] - 1s 4ms/step - loss: 97.9450 - mae: 7.4376 - mse: 97.9529 - val_loss: 71.5939 - val_mae: 6.1432 - val_mse: 71.6756\n",
      "Epoch 46/200\n",
      "260/260 [==============================] - 1s 4ms/step - loss: 95.1854 - mae: 7.3670 - mse: 95.1116 - val_loss: 71.0351 - val_mae: 6.0767 - val_mse: 71.1125\n",
      "Epoch 47/200\n",
      "260/260 [==============================] - 1s 4ms/step - loss: 97.3752 - mae: 7.4183 - mse: 97.4455 - val_loss: 71.0135 - val_mae: 6.0771 - val_mse: 71.1150\n",
      "Epoch 48/200\n"
     ]
    },
    {
     "name": "stdout",
     "output_type": "stream",
     "text": [
      "260/260 [==============================] - 1s 4ms/step - loss: 96.4542 - mae: 7.3822 - mse: 96.5115 - val_loss: 70.9245 - val_mae: 6.1611 - val_mse: 70.9665\n",
      "Epoch 49/200\n",
      "260/260 [==============================] - 1s 4ms/step - loss: 95.6551 - mae: 7.3313 - mse: 95.7561 - val_loss: 69.1380 - val_mae: 6.0358 - val_mse: 69.2769\n",
      "Epoch 50/200\n",
      "260/260 [==============================] - 1s 4ms/step - loss: 95.4438 - mae: 7.3371 - mse: 95.3938 - val_loss: 76.1095 - val_mae: 6.3418 - val_mse: 76.2149\n",
      "Epoch 51/200\n",
      "260/260 [==============================] - 1s 4ms/step - loss: 93.3245 - mae: 7.2932 - mse: 93.3291 - val_loss: 72.6733 - val_mae: 6.3566 - val_mse: 72.7829\n",
      "Epoch 52/200\n",
      "260/260 [==============================] - 1s 4ms/step - loss: 92.7093 - mae: 7.2627 - mse: 92.5788 - val_loss: 70.1769 - val_mae: 6.0986 - val_mse: 70.1670\n",
      "Epoch 53/200\n",
      "260/260 [==============================] - 1s 4ms/step - loss: 92.3070 - mae: 7.2496 - mse: 92.3902 - val_loss: 79.2700 - val_mae: 6.5192 - val_mse: 79.2725\n",
      "Epoch 54/200\n",
      "260/260 [==============================] - 1s 4ms/step - loss: 92.8909 - mae: 7.2238 - mse: 92.8732 - val_loss: 69.3039 - val_mae: 6.0374 - val_mse: 69.3092\n",
      "Epoch 55/200\n",
      "260/260 [==============================] - 1s 4ms/step - loss: 92.1867 - mae: 7.1750 - mse: 92.0200 - val_loss: 70.1764 - val_mae: 6.2077 - val_mse: 70.2613\n",
      "Epoch 56/200\n",
      "260/260 [==============================] - 1s 4ms/step - loss: 90.9876 - mae: 7.1839 - mse: 91.0761 - val_loss: 72.5385 - val_mae: 6.4636 - val_mse: 72.6306\n",
      "Epoch 57/200\n",
      "260/260 [==============================] - 1s 4ms/step - loss: 91.9626 - mae: 7.2137 - mse: 91.8925 - val_loss: 77.2350 - val_mae: 6.7102 - val_mse: 77.3625\n",
      "Epoch 58/200\n",
      "260/260 [==============================] - 1s 4ms/step - loss: 89.8448 - mae: 7.1235 - mse: 89.8049 - val_loss: 71.0957 - val_mae: 6.3001 - val_mse: 71.1593\n",
      "Epoch 59/200\n",
      "260/260 [==============================] - 1s 4ms/step - loss: 89.7087 - mae: 7.1181 - mse: 89.8147 - val_loss: 71.7785 - val_mae: 6.2445 - val_mse: 71.7318\n",
      "Epoch 60/200\n",
      "260/260 [==============================] - 1s 4ms/step - loss: 89.6024 - mae: 7.1266 - mse: 89.7075 - val_loss: 71.0233 - val_mae: 6.2962 - val_mse: 71.1513\n",
      "Epoch 61/200\n",
      "260/260 [==============================] - 1s 4ms/step - loss: 88.6210 - mae: 7.0794 - mse: 88.7139 - val_loss: 71.9438 - val_mae: 6.2406 - val_mse: 72.0096\n",
      "Epoch 62/200\n",
      "260/260 [==============================] - 1s 4ms/step - loss: 88.9623 - mae: 7.0096 - mse: 88.8553 - val_loss: 69.6264 - val_mae: 6.1995 - val_mse: 69.6294\n",
      "Epoch 63/200\n",
      "260/260 [==============================] - 1s 4ms/step - loss: 85.6711 - mae: 6.9639 - mse: 85.7644 - val_loss: 78.8939 - val_mae: 6.6390 - val_mse: 78.7942\n",
      "Epoch 64/200\n",
      "260/260 [==============================] - 1s 4ms/step - loss: 84.7878 - mae: 6.9179 - mse: 84.8534 - val_loss: 83.3963 - val_mae: 6.8430 - val_mse: 83.3142\n",
      "Epoch 65/200\n",
      "260/260 [==============================] - 1s 4ms/step - loss: 86.0429 - mae: 6.9152 - mse: 86.1444 - val_loss: 75.1459 - val_mae: 6.4892 - val_mse: 75.1442\n",
      "Epoch 66/200\n",
      "260/260 [==============================] - 1s 4ms/step - loss: 86.0925 - mae: 6.9450 - mse: 86.1590 - val_loss: 66.9968 - val_mae: 5.9444 - val_mse: 66.9342\n",
      "Epoch 67/200\n",
      "260/260 [==============================] - 1s 4ms/step - loss: 85.7745 - mae: 6.9446 - mse: 85.6571 - val_loss: 70.6562 - val_mae: 6.3008 - val_mse: 70.6941\n",
      "Epoch 68/200\n",
      "260/260 [==============================] - 1s 4ms/step - loss: 84.8873 - mae: 6.9181 - mse: 84.9031 - val_loss: 67.2590 - val_mae: 6.0609 - val_mse: 67.3369\n",
      "Epoch 69/200\n",
      "260/260 [==============================] - 1s 4ms/step - loss: 85.2803 - mae: 6.9506 - mse: 85.4033 - val_loss: 70.5999 - val_mae: 6.2615 - val_mse: 70.4703\n",
      "Epoch 70/200\n",
      "260/260 [==============================] - 1s 4ms/step - loss: 85.1604 - mae: 6.9174 - mse: 85.2129 - val_loss: 66.7227 - val_mae: 6.0099 - val_mse: 66.6721\n",
      "Epoch 71/200\n",
      "260/260 [==============================] - 1s 4ms/step - loss: 85.2154 - mae: 6.9195 - mse: 85.3670 - val_loss: 66.2222 - val_mae: 5.9660 - val_mse: 66.2545\n",
      "Epoch 72/200\n",
      "260/260 [==============================] - 1s 4ms/step - loss: 85.1858 - mae: 6.8942 - mse: 85.2189 - val_loss: 71.7698 - val_mae: 6.1158 - val_mse: 71.7356\n",
      "Epoch 73/200\n",
      "260/260 [==============================] - 1s 4ms/step - loss: 83.4962 - mae: 6.8216 - mse: 83.4989 - val_loss: 71.2445 - val_mae: 6.2518 - val_mse: 71.2066\n",
      "Epoch 74/200\n",
      "260/260 [==============================] - 1s 4ms/step - loss: 84.9691 - mae: 6.8788 - mse: 85.0661 - val_loss: 77.2147 - val_mae: 6.8783 - val_mse: 77.3186\n",
      "Epoch 75/200\n",
      "260/260 [==============================] - 1s 4ms/step - loss: 83.3907 - mae: 6.8329 - mse: 83.4312 - val_loss: 66.4702 - val_mae: 5.9358 - val_mse: 66.4440\n",
      "Epoch 76/200\n",
      "260/260 [==============================] - 1s 4ms/step - loss: 83.4226 - mae: 6.8313 - mse: 83.5059 - val_loss: 75.8791 - val_mae: 6.7956 - val_mse: 75.8636\n",
      "Epoch 77/200\n",
      "260/260 [==============================] - 1s 4ms/step - loss: 82.1225 - mae: 6.7639 - mse: 82.0616 - val_loss: 66.2256 - val_mae: 5.9309 - val_mse: 66.1314\n",
      "Epoch 78/200\n",
      "260/260 [==============================] - 1s 4ms/step - loss: 81.0417 - mae: 6.7402 - mse: 81.0617 - val_loss: 69.5950 - val_mae: 6.0564 - val_mse: 69.5400\n",
      "Epoch 79/200\n",
      "260/260 [==============================] - 1s 4ms/step - loss: 80.6200 - mae: 6.7151 - mse: 80.6631 - val_loss: 68.2910 - val_mae: 6.1505 - val_mse: 68.2834\n",
      "Epoch 80/200\n",
      "260/260 [==============================] - 1s 4ms/step - loss: 82.4252 - mae: 6.7767 - mse: 82.4428 - val_loss: 67.9443 - val_mae: 5.9917 - val_mse: 67.8822\n",
      "Epoch 81/200\n",
      "260/260 [==============================] - 1s 4ms/step - loss: 80.0696 - mae: 6.6684 - mse: 80.0970 - val_loss: 67.3416 - val_mae: 6.0887 - val_mse: 67.3431\n",
      "Epoch 82/200\n",
      "260/260 [==============================] - 1s 4ms/step - loss: 81.0988 - mae: 6.7258 - mse: 81.1352 - val_loss: 68.6553 - val_mae: 6.2633 - val_mse: 68.6308\n",
      "Epoch 83/200\n",
      "260/260 [==============================] - 1s 4ms/step - loss: 80.3418 - mae: 6.6953 - mse: 80.4565 - val_loss: 65.5757 - val_mae: 5.9778 - val_mse: 65.5752\n",
      "Epoch 84/200\n",
      "260/260 [==============================] - 1s 4ms/step - loss: 82.1318 - mae: 6.7767 - mse: 82.1592 - val_loss: 67.2166 - val_mae: 6.1188 - val_mse: 67.2591\n",
      "Epoch 85/200\n",
      "260/260 [==============================] - 1s 4ms/step - loss: 80.5653 - mae: 6.7233 - mse: 80.5766 - val_loss: 66.9148 - val_mae: 6.0638 - val_mse: 66.8892\n",
      "Epoch 86/200\n",
      "260/260 [==============================] - 1s 4ms/step - loss: 80.6692 - mae: 6.7120 - mse: 80.7930 - val_loss: 76.5135 - val_mae: 6.8272 - val_mse: 76.5776\n",
      "Epoch 87/200\n",
      "260/260 [==============================] - 1s 4ms/step - loss: 77.4297 - mae: 6.6021 - mse: 77.4974 - val_loss: 75.1526 - val_mae: 6.7838 - val_mse: 75.1605\n",
      "Epoch 88/200\n",
      "260/260 [==============================] - 1s 4ms/step - loss: 79.3667 - mae: 6.6597 - mse: 79.3585 - val_loss: 65.0627 - val_mae: 5.9564 - val_mse: 65.0373\n",
      "Epoch 89/200\n",
      "260/260 [==============================] - 1s 4ms/step - loss: 78.8610 - mae: 6.6247 - mse: 78.9689 - val_loss: 65.4405 - val_mae: 5.9622 - val_mse: 65.4360\n",
      "Epoch 90/200\n",
      "260/260 [==============================] - 1s 4ms/step - loss: 79.1101 - mae: 6.6677 - mse: 79.1326 - val_loss: 69.3647 - val_mae: 6.3170 - val_mse: 69.3075\n",
      "Epoch 91/200\n",
      "260/260 [==============================] - 1s 4ms/step - loss: 78.6744 - mae: 6.6300 - mse: 78.6576 - val_loss: 68.2370 - val_mae: 6.2408 - val_mse: 68.2652\n",
      "Epoch 92/200\n",
      "260/260 [==============================] - 1s 4ms/step - loss: 77.5859 - mae: 6.6205 - mse: 77.7118 - val_loss: 65.0744 - val_mae: 5.9749 - val_mse: 65.1288\n",
      "Epoch 93/200\n",
      "260/260 [==============================] - 1s 4ms/step - loss: 76.7170 - mae: 6.5762 - mse: 76.7813 - val_loss: 71.7530 - val_mae: 6.4451 - val_mse: 71.8606\n",
      "Epoch 94/200\n",
      "260/260 [==============================] - 1s 4ms/step - loss: 77.6124 - mae: 6.5796 - mse: 77.6139 - val_loss: 67.9565 - val_mae: 6.2160 - val_mse: 67.9597\n",
      "Epoch 95/200\n",
      "260/260 [==============================] - 1s 4ms/step - loss: 76.2586 - mae: 6.5132 - mse: 76.3232 - val_loss: 67.0018 - val_mae: 6.0962 - val_mse: 67.0483\n",
      "Epoch 96/200\n"
     ]
    },
    {
     "name": "stdout",
     "output_type": "stream",
     "text": [
      "260/260 [==============================] - 1s 4ms/step - loss: 76.4246 - mae: 6.5392 - mse: 76.4899 - val_loss: 75.2749 - val_mae: 6.4281 - val_mse: 75.1597\n",
      "Epoch 97/200\n",
      "260/260 [==============================] - 1s 4ms/step - loss: 77.6942 - mae: 6.5801 - mse: 77.7014 - val_loss: 65.1683 - val_mae: 5.8666 - val_mse: 65.1066\n",
      "Epoch 98/200\n",
      "260/260 [==============================] - 1s 4ms/step - loss: 75.9739 - mae: 6.5108 - mse: 76.0239 - val_loss: 68.3861 - val_mae: 6.2612 - val_mse: 68.4150\n",
      "Epoch 99/200\n",
      "260/260 [==============================] - 1s 4ms/step - loss: 75.1010 - mae: 6.4690 - mse: 75.0885 - val_loss: 71.7511 - val_mae: 6.3650 - val_mse: 71.6583\n",
      "Epoch 100/200\n",
      "260/260 [==============================] - 1s 4ms/step - loss: 76.4161 - mae: 6.4861 - mse: 76.4900 - val_loss: 64.9901 - val_mae: 5.9681 - val_mse: 64.9822\n",
      "Epoch 101/200\n",
      "260/260 [==============================] - 1s 4ms/step - loss: 76.6964 - mae: 6.5387 - mse: 76.7744 - val_loss: 65.8365 - val_mae: 6.0276 - val_mse: 65.7924\n",
      "Epoch 102/200\n",
      "260/260 [==============================] - 1s 4ms/step - loss: 76.0457 - mae: 6.4812 - mse: 76.0430 - val_loss: 70.9221 - val_mae: 6.4659 - val_mse: 70.9649\n",
      "Epoch 103/200\n",
      "260/260 [==============================] - 1s 4ms/step - loss: 75.1556 - mae: 6.4849 - mse: 75.1533 - val_loss: 67.9657 - val_mae: 6.0607 - val_mse: 67.9040\n",
      "Epoch 104/200\n",
      "260/260 [==============================] - 1s 4ms/step - loss: 75.5871 - mae: 6.5192 - mse: 75.6204 - val_loss: 71.0865 - val_mae: 6.5217 - val_mse: 71.1472\n",
      "Epoch 105/200\n",
      "260/260 [==============================] - 1s 4ms/step - loss: 74.9592 - mae: 6.4377 - mse: 75.0091 - val_loss: 64.2398 - val_mae: 5.9330 - val_mse: 64.2464\n",
      "Epoch 106/200\n",
      "260/260 [==============================] - 1s 5ms/step - loss: 74.6318 - mae: 6.4354 - mse: 74.7125 - val_loss: 65.5239 - val_mae: 6.0515 - val_mse: 65.5170\n",
      "Epoch 107/200\n",
      "260/260 [==============================] - 1s 4ms/step - loss: 74.6026 - mae: 6.4472 - mse: 74.5888 - val_loss: 67.2040 - val_mae: 5.9597 - val_mse: 67.1731\n",
      "Epoch 108/200\n",
      "260/260 [==============================] - 1s 4ms/step - loss: 74.2758 - mae: 6.4523 - mse: 74.4202 - val_loss: 64.3223 - val_mae: 5.8756 - val_mse: 64.2837\n",
      "Epoch 109/200\n",
      "260/260 [==============================] - 1s 4ms/step - loss: 73.5773 - mae: 6.3867 - mse: 73.5371 - val_loss: 81.8137 - val_mae: 6.8639 - val_mse: 81.6786\n",
      "Epoch 110/200\n",
      "260/260 [==============================] - 1s 4ms/step - loss: 73.9055 - mae: 6.4297 - mse: 73.9857 - val_loss: 65.6198 - val_mae: 5.8878 - val_mse: 65.5576\n",
      "Epoch 111/200\n",
      "260/260 [==============================] - 1s 4ms/step - loss: 74.1815 - mae: 6.4293 - mse: 74.2473 - val_loss: 70.8715 - val_mae: 6.4877 - val_mse: 70.8187\n",
      "Epoch 112/200\n",
      "260/260 [==============================] - 1s 4ms/step - loss: 74.0046 - mae: 6.4213 - mse: 74.0664 - val_loss: 63.4201 - val_mae: 5.7950 - val_mse: 63.3765\n",
      "Epoch 113/200\n",
      "260/260 [==============================] - 1s 4ms/step - loss: 73.7946 - mae: 6.4144 - mse: 73.8963 - val_loss: 64.8666 - val_mae: 5.8919 - val_mse: 64.8401\n",
      "Epoch 114/200\n",
      "260/260 [==============================] - 1s 4ms/step - loss: 72.9156 - mae: 6.3616 - mse: 72.8972 - val_loss: 66.8603 - val_mae: 6.0705 - val_mse: 66.7623\n",
      "Epoch 115/200\n",
      "260/260 [==============================] - 1s 4ms/step - loss: 73.5201 - mae: 6.4073 - mse: 73.4999 - val_loss: 64.9646 - val_mae: 5.8399 - val_mse: 64.9162\n",
      "Epoch 116/200\n",
      "260/260 [==============================] - 1s 4ms/step - loss: 72.6616 - mae: 6.3500 - mse: 72.6585 - val_loss: 63.9037 - val_mae: 5.8897 - val_mse: 63.8784\n",
      "Epoch 117/200\n",
      "260/260 [==============================] - 1s 4ms/step - loss: 73.0811 - mae: 6.3795 - mse: 73.0508 - val_loss: 68.6832 - val_mae: 6.1539 - val_mse: 68.6341\n",
      "Epoch 118/200\n",
      "260/260 [==============================] - 1s 4ms/step - loss: 71.7391 - mae: 6.3406 - mse: 71.8478 - val_loss: 65.1158 - val_mae: 5.9755 - val_mse: 65.0549\n",
      "Epoch 119/200\n",
      "260/260 [==============================] - 1s 4ms/step - loss: 73.5718 - mae: 6.4028 - mse: 73.5233 - val_loss: 65.3411 - val_mae: 5.9244 - val_mse: 65.2791\n",
      "Epoch 120/200\n",
      "260/260 [==============================] - 1s 4ms/step - loss: 71.6749 - mae: 6.3085 - mse: 71.8023 - val_loss: 63.8113 - val_mae: 5.8636 - val_mse: 63.7780\n",
      "Epoch 121/200\n",
      "260/260 [==============================] - 1s 4ms/step - loss: 71.5832 - mae: 6.3467 - mse: 71.6514 - val_loss: 66.4943 - val_mae: 5.9027 - val_mse: 66.4643\n",
      "Epoch 122/200\n",
      "260/260 [==============================] - 1s 4ms/step - loss: 70.9938 - mae: 6.2816 - mse: 71.0152 - val_loss: 69.5576 - val_mae: 6.0717 - val_mse: 69.5165\n",
      "Epoch 123/200\n",
      "260/260 [==============================] - 1s 4ms/step - loss: 71.6703 - mae: 6.3093 - mse: 71.6666 - val_loss: 65.0938 - val_mae: 5.9827 - val_mse: 65.1309\n",
      "Epoch 124/200\n",
      "260/260 [==============================] - 1s 4ms/step - loss: 71.2439 - mae: 6.2915 - mse: 71.3674 - val_loss: 71.0262 - val_mae: 6.2295 - val_mse: 71.0018\n",
      "Epoch 125/200\n",
      "260/260 [==============================] - 1s 4ms/step - loss: 72.6868 - mae: 6.3469 - mse: 72.7069 - val_loss: 66.0086 - val_mae: 5.9876 - val_mse: 66.0034\n",
      "Epoch 126/200\n",
      "260/260 [==============================] - 1s 4ms/step - loss: 71.6905 - mae: 6.3238 - mse: 71.7467 - val_loss: 66.6194 - val_mae: 5.8978 - val_mse: 66.6441\n",
      "Epoch 127/200\n",
      "260/260 [==============================] - 1s 4ms/step - loss: 70.2650 - mae: 6.2363 - mse: 70.3682 - val_loss: 71.4544 - val_mae: 6.3848 - val_mse: 71.4556\n",
      "Epoch 128/200\n",
      "260/260 [==============================] - 1s 4ms/step - loss: 71.0257 - mae: 6.2976 - mse: 71.1311 - val_loss: 63.9442 - val_mae: 5.9520 - val_mse: 64.0088\n",
      "Epoch 129/200\n",
      "260/260 [==============================] - 1s 4ms/step - loss: 71.1534 - mae: 6.2739 - mse: 71.1738 - val_loss: 67.0742 - val_mae: 6.1846 - val_mse: 67.0795\n",
      "Epoch 130/200\n",
      "260/260 [==============================] - 1s 4ms/step - loss: 70.1517 - mae: 6.2568 - mse: 70.2369 - val_loss: 64.1293 - val_mae: 5.9365 - val_mse: 64.1925\n",
      "Epoch 131/200\n",
      "260/260 [==============================] - 1s 4ms/step - loss: 68.7356 - mae: 6.1900 - mse: 68.8113 - val_loss: 64.7436 - val_mae: 5.9988 - val_mse: 64.7503\n",
      "Epoch 132/200\n",
      "260/260 [==============================] - 1s 4ms/step - loss: 69.3866 - mae: 6.2197 - mse: 69.4626 - val_loss: 67.7689 - val_mae: 6.2826 - val_mse: 67.8621\n",
      "Epoch 133/200\n",
      "260/260 [==============================] - 1s 4ms/step - loss: 69.6896 - mae: 6.2225 - mse: 69.7573 - val_loss: 65.2939 - val_mae: 5.9926 - val_mse: 65.2908\n",
      "Epoch 134/200\n",
      "260/260 [==============================] - 1s 4ms/step - loss: 69.9240 - mae: 6.2619 - mse: 69.8822 - val_loss: 66.7509 - val_mae: 6.1725 - val_mse: 66.7741\n",
      "Epoch 135/200\n",
      "260/260 [==============================] - 1s 4ms/step - loss: 67.9777 - mae: 6.1760 - mse: 68.0923 - val_loss: 66.9454 - val_mae: 6.1816 - val_mse: 67.0053\n",
      "Epoch 136/200\n",
      "260/260 [==============================] - 1s 4ms/step - loss: 69.8890 - mae: 6.2413 - mse: 69.9060 - val_loss: 63.7004 - val_mae: 5.8932 - val_mse: 63.7723\n",
      "Epoch 137/200\n",
      "260/260 [==============================] - 1s 4ms/step - loss: 69.5133 - mae: 6.2246 - mse: 69.5953 - val_loss: 77.4311 - val_mae: 7.0036 - val_mse: 77.5375\n",
      "Epoch 138/200\n",
      "260/260 [==============================] - 1s 4ms/step - loss: 70.7654 - mae: 6.2718 - mse: 70.7984 - val_loss: 64.9833 - val_mae: 6.0104 - val_mse: 65.0386\n",
      "Epoch 139/200\n",
      "260/260 [==============================] - 1s 4ms/step - loss: 68.1034 - mae: 6.1533 - mse: 68.1832 - val_loss: 64.5534 - val_mae: 5.8479 - val_mse: 64.5967\n",
      "Epoch 140/200\n",
      "260/260 [==============================] - 1s 4ms/step - loss: 68.1483 - mae: 6.2132 - mse: 68.2044 - val_loss: 64.4211 - val_mae: 5.8329 - val_mse: 64.4453\n",
      "Epoch 141/200\n",
      "260/260 [==============================] - 1s 4ms/step - loss: 69.1845 - mae: 6.2052 - mse: 69.1937 - val_loss: 65.3956 - val_mae: 5.9996 - val_mse: 65.3092\n",
      "Epoch 142/200\n",
      "260/260 [==============================] - 1s 4ms/step - loss: 68.6285 - mae: 6.1570 - mse: 68.7148 - val_loss: 73.9784 - val_mae: 6.5451 - val_mse: 74.0087\n",
      "Epoch 143/200\n",
      "260/260 [==============================] - 1s 5ms/step - loss: 67.7334 - mae: 6.1644 - mse: 67.8290 - val_loss: 69.5071 - val_mae: 6.3768 - val_mse: 69.6018\n",
      "Epoch 144/200\n"
     ]
    },
    {
     "name": "stdout",
     "output_type": "stream",
     "text": [
      "260/260 [==============================] - 1s 4ms/step - loss: 68.2416 - mae: 6.1809 - mse: 68.2811 - val_loss: 63.3589 - val_mae: 5.8335 - val_mse: 63.3555\n",
      "Epoch 145/200\n",
      "260/260 [==============================] - 1s 4ms/step - loss: 67.3702 - mae: 6.1571 - mse: 67.4084 - val_loss: 81.0432 - val_mae: 6.8163 - val_mse: 80.8927\n",
      "Epoch 146/200\n",
      "260/260 [==============================] - 1s 4ms/step - loss: 68.3536 - mae: 6.1784 - mse: 68.4509 - val_loss: 65.9504 - val_mae: 5.9450 - val_mse: 65.8561\n",
      "Epoch 147/200\n",
      "260/260 [==============================] - 1s 4ms/step - loss: 67.8272 - mae: 6.1557 - mse: 67.8804 - val_loss: 66.8045 - val_mae: 6.2279 - val_mse: 66.8050\n",
      "Epoch 148/200\n",
      "260/260 [==============================] - 1s 5ms/step - loss: 67.8262 - mae: 6.1360 - mse: 67.8133 - val_loss: 66.7171 - val_mae: 6.1114 - val_mse: 66.7248\n",
      "Epoch 149/200\n",
      "260/260 [==============================] - 1s 4ms/step - loss: 66.4203 - mae: 6.0916 - mse: 66.4005 - val_loss: 63.2377 - val_mae: 5.8321 - val_mse: 63.2681\n",
      "Epoch 150/200\n",
      "260/260 [==============================] - 1s 5ms/step - loss: 66.4633 - mae: 6.1154 - mse: 66.4729 - val_loss: 70.0622 - val_mae: 6.4907 - val_mse: 70.1238\n",
      "Epoch 151/200\n",
      "260/260 [==============================] - 1s 5ms/step - loss: 66.6665 - mae: 6.0986 - mse: 66.7414 - val_loss: 71.0680 - val_mae: 6.3426 - val_mse: 70.9462\n",
      "Epoch 152/200\n",
      "260/260 [==============================] - 1s 5ms/step - loss: 67.4288 - mae: 6.1226 - mse: 67.5338 - val_loss: 68.4308 - val_mae: 6.2840 - val_mse: 68.5359\n",
      "Epoch 153/200\n",
      "260/260 [==============================] - 2s 6ms/step - loss: 66.3549 - mae: 6.1076 - mse: 66.4787 - val_loss: 75.5037 - val_mae: 6.8297 - val_mse: 75.6236\n",
      "Epoch 154/200\n",
      "260/260 [==============================] - 1s 4ms/step - loss: 65.5690 - mae: 6.0753 - mse: 65.6635 - val_loss: 64.8079 - val_mae: 6.0151 - val_mse: 64.8404\n",
      "Epoch 155/200\n",
      "260/260 [==============================] - 1s 4ms/step - loss: 65.9165 - mae: 6.0784 - mse: 65.9318 - val_loss: 66.2747 - val_mae: 6.0977 - val_mse: 66.3958\n",
      "Epoch 156/200\n",
      "260/260 [==============================] - 1s 4ms/step - loss: 67.0049 - mae: 6.1049 - mse: 67.0746 - val_loss: 65.8440 - val_mae: 6.1080 - val_mse: 65.8759\n",
      "Epoch 157/200\n",
      "260/260 [==============================] - 1s 4ms/step - loss: 65.3157 - mae: 6.0435 - mse: 65.3736 - val_loss: 72.2573 - val_mae: 6.6155 - val_mse: 72.3446\n",
      "Epoch 158/200\n",
      "260/260 [==============================] - 1s 4ms/step - loss: 66.1936 - mae: 6.0737 - mse: 66.2023 - val_loss: 66.0132 - val_mae: 6.1076 - val_mse: 66.0513\n",
      "Epoch 159/200\n",
      "260/260 [==============================] - 1s 4ms/step - loss: 64.6298 - mae: 6.0344 - mse: 64.6774 - val_loss: 65.6401 - val_mae: 5.9703 - val_mse: 65.5739\n",
      "Epoch 160/200\n",
      "260/260 [==============================] - 1s 5ms/step - loss: 66.6812 - mae: 6.1005 - mse: 66.7327 - val_loss: 65.8794 - val_mae: 6.1305 - val_mse: 65.9775\n",
      "Epoch 161/200\n",
      "260/260 [==============================] - 1s 5ms/step - loss: 65.7670 - mae: 6.0489 - mse: 65.7946 - val_loss: 75.4585 - val_mae: 6.8569 - val_mse: 75.5162\n",
      "Epoch 162/200\n",
      "260/260 [==============================] - 1s 4ms/step - loss: 66.1886 - mae: 6.0898 - mse: 66.2426 - val_loss: 63.5641 - val_mae: 5.8673 - val_mse: 63.5212\n",
      "Epoch 163/200\n",
      "260/260 [==============================] - 1s 4ms/step - loss: 66.6185 - mae: 6.0719 - mse: 66.6213 - val_loss: 63.6581 - val_mae: 5.8999 - val_mse: 63.6827\n",
      "Epoch 164/200\n",
      "260/260 [==============================] - 1s 4ms/step - loss: 65.6749 - mae: 6.0261 - mse: 65.7052 - val_loss: 62.5965 - val_mae: 5.8094 - val_mse: 62.5644\n",
      "Epoch 165/200\n",
      "260/260 [==============================] - 1s 4ms/step - loss: 65.3649 - mae: 6.0691 - mse: 65.3449 - val_loss: 64.7127 - val_mae: 6.0338 - val_mse: 64.7770\n",
      "Epoch 166/200\n",
      "260/260 [==============================] - 1s 4ms/step - loss: 65.1880 - mae: 6.0432 - mse: 65.2784 - val_loss: 62.7490 - val_mae: 5.8397 - val_mse: 62.6993\n",
      "Epoch 167/200\n",
      "260/260 [==============================] - 1s 4ms/step - loss: 65.3552 - mae: 6.0516 - mse: 65.4228 - val_loss: 63.2300 - val_mae: 5.8293 - val_mse: 63.1509\n",
      "Epoch 168/200\n",
      "260/260 [==============================] - 1s 4ms/step - loss: 64.2660 - mae: 5.9933 - mse: 64.3115 - val_loss: 68.7487 - val_mae: 6.3453 - val_mse: 68.8221\n",
      "Epoch 169/200\n",
      "260/260 [==============================] - 1s 4ms/step - loss: 66.0260 - mae: 6.0577 - mse: 66.0550 - val_loss: 67.7037 - val_mae: 6.2712 - val_mse: 67.7907\n",
      "Epoch 170/200\n",
      "260/260 [==============================] - 1s 5ms/step - loss: 64.8592 - mae: 6.0350 - mse: 64.9925 - val_loss: 67.6468 - val_mae: 6.2750 - val_mse: 67.7598\n",
      "Epoch 171/200\n",
      "260/260 [==============================] - 1s 4ms/step - loss: 64.3374 - mae: 5.9761 - mse: 64.3853 - val_loss: 69.3747 - val_mae: 6.3591 - val_mse: 69.4269\n",
      "Epoch 172/200\n",
      "260/260 [==============================] - 1s 4ms/step - loss: 64.1854 - mae: 5.9798 - mse: 64.2894 - val_loss: 65.1007 - val_mae: 6.0415 - val_mse: 65.1441\n",
      "Epoch 173/200\n",
      "260/260 [==============================] - 1s 5ms/step - loss: 64.7229 - mae: 6.0339 - mse: 64.8187 - val_loss: 64.6554 - val_mae: 6.0061 - val_mse: 64.6266\n",
      "Epoch 174/200\n",
      "260/260 [==============================] - 1s 4ms/step - loss: 65.1081 - mae: 6.0423 - mse: 65.1384 - val_loss: 64.3797 - val_mae: 5.9114 - val_mse: 64.3724\n",
      "Epoch 175/200\n",
      "260/260 [==============================] - 1s 4ms/step - loss: 63.8348 - mae: 5.9948 - mse: 63.8066 - val_loss: 63.3744 - val_mae: 5.8682 - val_mse: 63.3975\n",
      "Epoch 176/200\n",
      "260/260 [==============================] - 1s 4ms/step - loss: 63.6299 - mae: 5.9766 - mse: 63.6898 - val_loss: 64.1430 - val_mae: 5.9523 - val_mse: 64.1154\n",
      "Epoch 177/200\n",
      "260/260 [==============================] - 1s 5ms/step - loss: 65.3997 - mae: 6.0073 - mse: 65.4426 - val_loss: 63.1286 - val_mae: 5.8183 - val_mse: 63.1515\n",
      "Epoch 178/200\n",
      "260/260 [==============================] - 1s 4ms/step - loss: 64.1096 - mae: 5.9666 - mse: 64.2051 - val_loss: 62.8874 - val_mae: 5.8582 - val_mse: 62.9237\n",
      "Epoch 179/200\n",
      "260/260 [==============================] - 1s 4ms/step - loss: 64.2191 - mae: 6.0105 - mse: 64.1900 - val_loss: 71.9126 - val_mae: 6.4667 - val_mse: 71.9006\n",
      "Epoch 180/200\n",
      "260/260 [==============================] - 1s 4ms/step - loss: 63.8576 - mae: 5.9749 - mse: 63.9760 - val_loss: 62.7526 - val_mae: 5.8374 - val_mse: 62.7243\n",
      "Epoch 181/200\n",
      "260/260 [==============================] - 1s 4ms/step - loss: 63.4445 - mae: 5.9710 - mse: 63.5034 - val_loss: 65.9499 - val_mae: 6.1535 - val_mse: 66.0003\n",
      "Epoch 182/200\n",
      "260/260 [==============================] - 1s 4ms/step - loss: 64.0975 - mae: 5.9960 - mse: 64.1583 - val_loss: 69.6465 - val_mae: 6.3524 - val_mse: 69.7152\n",
      "Epoch 183/200\n",
      "260/260 [==============================] - 1s 4ms/step - loss: 62.9656 - mae: 5.9567 - mse: 63.0190 - val_loss: 69.5208 - val_mae: 6.2141 - val_mse: 69.4686\n",
      "Epoch 184/200\n",
      "260/260 [==============================] - 1s 4ms/step - loss: 63.3880 - mae: 5.9567 - mse: 63.4755 - val_loss: 65.4898 - val_mae: 6.0384 - val_mse: 65.5831\n",
      "Epoch 185/200\n",
      "260/260 [==============================] - 1s 4ms/step - loss: 63.6132 - mae: 5.9510 - mse: 63.6793 - val_loss: 64.8221 - val_mae: 5.9252 - val_mse: 64.7756\n",
      "Epoch 186/200\n",
      "260/260 [==============================] - 1s 4ms/step - loss: 62.4157 - mae: 5.9492 - mse: 62.5201 - val_loss: 63.8530 - val_mae: 5.8516 - val_mse: 63.8414\n",
      "Epoch 187/200\n",
      "260/260 [==============================] - 1s 4ms/step - loss: 62.5055 - mae: 5.9134 - mse: 62.4354 - val_loss: 67.3654 - val_mae: 6.1721 - val_mse: 67.3258\n",
      "Epoch 188/200\n",
      "260/260 [==============================] - 1s 4ms/step - loss: 63.1447 - mae: 5.9439 - mse: 63.1376 - val_loss: 68.7309 - val_mae: 6.3994 - val_mse: 68.8470\n",
      "Epoch 189/200\n",
      "260/260 [==============================] - 1s 4ms/step - loss: 63.2887 - mae: 5.9353 - mse: 63.3275 - val_loss: 68.2940 - val_mae: 6.1810 - val_mse: 68.3055\n",
      "Epoch 190/200\n",
      "260/260 [==============================] - 1s 5ms/step - loss: 62.4202 - mae: 5.9573 - mse: 62.4445 - val_loss: 68.7289 - val_mae: 6.3677 - val_mse: 68.7448\n",
      "Epoch 191/200\n",
      "260/260 [==============================] - 1s 4ms/step - loss: 61.3553 - mae: 5.8742 - mse: 61.2577 - val_loss: 65.1476 - val_mae: 6.0427 - val_mse: 65.1134\n"
     ]
    },
    {
     "name": "stdout",
     "output_type": "stream",
     "text": [
      "Epoch 192/200\n",
      "260/260 [==============================] - 1s 4ms/step - loss: 62.4821 - mae: 5.8793 - mse: 62.4090 - val_loss: 65.7445 - val_mae: 5.9870 - val_mse: 65.6007\n",
      "Epoch 193/200\n",
      "260/260 [==============================] - 1s 4ms/step - loss: 62.7104 - mae: 5.9231 - mse: 62.7518 - val_loss: 78.6235 - val_mae: 6.8229 - val_mse: 78.6950\n",
      "Epoch 194/200\n",
      "260/260 [==============================] - 1s 4ms/step - loss: 61.6169 - mae: 5.8841 - mse: 61.6761 - val_loss: 71.2406 - val_mae: 6.5018 - val_mse: 71.2782\n",
      "Epoch 195/200\n",
      "260/260 [==============================] - 1s 4ms/step - loss: 62.4008 - mae: 5.9030 - mse: 62.4434 - val_loss: 68.4384 - val_mae: 6.3546 - val_mse: 68.5311\n",
      "Epoch 196/200\n",
      "260/260 [==============================] - 1s 6ms/step - loss: 61.2762 - mae: 5.8653 - mse: 61.3563 - val_loss: 63.0867 - val_mae: 5.8645 - val_mse: 63.0682\n",
      "Epoch 197/200\n",
      "260/260 [==============================] - 1s 5ms/step - loss: 62.4305 - mae: 5.9114 - mse: 62.4687 - val_loss: 63.1426 - val_mae: 5.7947 - val_mse: 63.0430\n",
      "Epoch 198/200\n",
      "260/260 [==============================] - 1s 5ms/step - loss: 61.8340 - mae: 5.9048 - mse: 61.8276 - val_loss: 69.9652 - val_mae: 6.4464 - val_mse: 70.0485\n",
      "Epoch 199/200\n",
      "260/260 [==============================] - 1s 4ms/step - loss: 61.3832 - mae: 5.8583 - mse: 61.4632 - val_loss: 68.1292 - val_mae: 6.2594 - val_mse: 68.1862\n",
      "Epoch 200/200\n",
      "260/260 [==============================] - 1s 4ms/step - loss: 61.8175 - mae: 5.8769 - mse: 61.8903 - val_loss: 68.2408 - val_mae: 6.2828 - val_mse: 68.1755\n"
     ]
    }
   ],
   "source": [
    "history = model.fit(\n",
    "    train_dataset,\n",
    "    epochs=EPOCHS,\n",
    "    validation_data=test_dataset\n",
    ")"
   ]
  },
  {
   "cell_type": "code",
   "execution_count": 11,
   "metadata": {},
   "outputs": [
    {
     "data": {
      "image/png": "[encoded data removed]",
      "text/plain": [
       "<Figure size 432x288 with 1 Axes>"
      ]
     },
     "metadata": {
      "needs_background": "light"
     },
     "output_type": "display_data"
    }
   ],
   "source": [
    "test_predictions = model.predict(x_test).flatten()\n",
    "\n",
    "a = plt.axes(aspect='equal')\n",
    "plt.scatter(y_test[y_test<60], test_predictions[y_test<60], color='blue')\n",
    "plt.scatter(y_test[y_test>=60], test_predictions[y_test>=60], color='orange')\n",
    "plt.xlabel('True Values [MPG]')\n",
    "plt.ylabel('Predictions [MPG]')\n",
    "lims = [0, 120]\n",
    "plt.xlim(lims)\n",
    "plt.ylim(lims)\n",
    "_ = plt.plot(lims, lims)\n"
   ]
  },
  {
   "cell_type": "code",
   "execution_count": 12,
   "metadata": {},
   "outputs": [
    {
     "data": {
      "image/png": "[encoded data removed]",
      "text/plain": [
       "<Figure size 432x288 with 1 Axes>"
      ]
     },
     "metadata": {
      "needs_background": "light"
     },
     "output_type": "display_data"
    }
   ],
   "source": [
    "error = test_predictions - y_test\n",
    "plt.hist(error, bins = 25)\n",
    "plt.xlabel(\"Prediction Error [MPG]\")\n",
    "_ = plt.ylabel(\"Count\")"
   ]
  },
  {
   "cell_type": "markdown",
   "metadata": {},
   "source": [
    "### Error for age > 60"
   ]
  },
  {
   "cell_type": "code",
   "execution_count": 13,
   "metadata": {},
   "outputs": [
    {
     "data": {
      "image/png": "[encoded data removed]",
      "text/plain": [
       "<Figure size 432x288 with 1 Axes>"
      ]
     },
     "metadata": {
      "needs_background": "light"
     },
     "output_type": "display_data"
    }
   ],
   "source": [
    "error = test_predictions[y_test > 60] - y_test[y_test > 60]\n",
    "plt.hist(error, bins = 25)\n",
    "plt.xlabel(\"Prediction Error [MPG]\")\n",
    "_ = plt.ylabel(\"Count\")"
   ]
  },
  {
   "cell_type": "code",
   "execution_count": 14,
   "metadata": {},
   "outputs": [
    {
     "data": {
      "text/plain": [
       "-8.42810946896315"
      ]
     },
     "execution_count": 14,
     "metadata": {},
     "output_type": "execute_result"
    }
   ],
   "source": [
    "error.mean()"
   ]
  },
  {
   "cell_type": "code",
   "execution_count": 15,
   "metadata": {},
   "outputs": [
    {
     "data": {
      "text/plain": [
       "9.434573686395504"
      ]
     },
     "execution_count": 15,
     "metadata": {},
     "output_type": "execute_result"
    }
   ],
   "source": [
    "error.std()"
   ]
  },
  {
   "cell_type": "code",
   "execution_count": 16,
   "metadata": {},
   "outputs": [
    {
     "data": {
      "image/png": "[encoded data removed]",
      "text/plain": [
       "<Figure size 1152x432 with 2 Axes>"
      ]
     },
     "metadata": {
      "needs_background": "light"
     },
     "output_type": "display_data"
    }
   ],
   "source": [
    "acc = history.history['mae']\n",
    "val_acc = history.history['val_mae']\n",
    "\n",
    "loss = history.history['loss']\n",
    "val_loss = history.history['val_loss']\n",
    "\n",
    "epochs_range = range(EPOCHS)\n",
    "\n",
    "plt.figure(figsize=(16, 6))\n",
    "plt.subplot(1, 2, 1)\n",
    "plt.plot(epochs_range, acc, label='Training MAE')\n",
    "plt.plot(epochs_range, val_acc, label='Validation MAE')\n",
    "plt.legend(loc='lower right')\n",
    "plt.title('Training and Validation MAE')\n",
    "\n",
    "plt.subplot(1, 2, 2)\n",
    "plt.plot(epochs_range, loss, label='Training MSE')\n",
    "plt.plot(epochs_range, val_loss, label='Validation MSE')\n",
    "plt.legend(loc='upper right')\n",
    "plt.title('Training and Validation MSE')\n",
    "plt.show()"
   ]
  }
 ],
 "metadata": {
  "kernelspec": {
   "display_name": "Python 3",
   "language": "python",
   "name": "python3"
  },
  "language_info": {
   "codemirror_mode": {
    "name": "ipython",
    "version": 3
   },
   "file_extension": ".py",
   "mimetype": "text/x-python",
   "name": "python",
   "nbconvert_exporter": "python",
   "pygments_lexer": "ipython3",
   "version": "3.6.9"
  }
 },
 "nbformat": 4,
 "nbformat_minor": 4
}
